{
 "cells": [
  {
   "cell_type": "code",
   "execution_count": 1,
   "metadata": {},
   "outputs": [
    {
     "name": "stdout",
     "output_type": "stream",
     "text": [
      "0.0974431287100479\n",
      "/work/data/torrieri/Ki7520_CMs_after_filtering__Intensity_MeanIntensity_A647rescaled_above_mean.csv\n"
     ]
    }
   ],
   "source": [
    "import pandas as pd\n",
    "from pathlib import Path\n",
    "\n",
    "#DATA_DIR = 'L:\\med-groups\\lmu\\ls1\\users\\t\\torrieri\\CellProfiler\\output'\n",
    "DATA_DIR = '/work/data/torrieri'\n",
    "FILE_NAME = 'Ki7520_CMs_after_filtering.csv' \n",
    "\n",
    "DATA_DIR = Path(DATA_DIR)\n",
    "if not DATA_DIR.is_dir():\n",
    "    raise ValueError('Please check DATA_DIR.')\n",
    "FILE = DATA_DIR / FILE_NAME\n",
    "if not FILE.exists():\n",
    "    raise ValueError('Please check FILE_NAME.')\n",
    "\n",
    "df = pd.read_csv(FILE)\n",
    "\n",
    "MEASUREMENT = 'Intensity_MeanIntensity_A647rescaled'\n",
    "\n",
    "avg = df[MEASUREMENT].mean()\n",
    "print(avg)\n",
    "\n",
    "\n",
    "# save rows where the measured value is above mean\n",
    "OUTPUT = DATA_DIR / (FILE.stem + \"__\" + MEASUREMENT + \"_above_mean\" + FILE.suffix)\n",
    "cols = ['ImageNumber','ObjectNumber',MEASUREMENT]\n",
    "df[df[MEASUREMENT] >= avg][cols].to_csv(OUTPUT,index=False)\n",
    "print(OUTPUT)\n"
   ]
  },
  {
   "cell_type": "code",
   "execution_count": 2,
   "metadata": {},
   "outputs": [
    {
     "data": {
      "text/html": [
       "<div>\n",
       "<style scoped>\n",
       "    .dataframe tbody tr th:only-of-type {\n",
       "        vertical-align: middle;\n",
       "    }\n",
       "\n",
       "    .dataframe tbody tr th {\n",
       "        vertical-align: top;\n",
       "    }\n",
       "\n",
       "    .dataframe thead th {\n",
       "        text-align: right;\n",
       "    }\n",
       "</style>\n",
       "<table border=\"1\" class=\"dataframe\">\n",
       "  <thead>\n",
       "    <tr style=\"text-align: right;\">\n",
       "      <th></th>\n",
       "      <th>ObjectNumber</th>\n",
       "    </tr>\n",
       "    <tr>\n",
       "      <th>ImageNumber</th>\n",
       "      <th></th>\n",
       "    </tr>\n",
       "  </thead>\n",
       "  <tbody>\n",
       "    <tr>\n",
       "      <th>105</th>\n",
       "      <td>1</td>\n",
       "    </tr>\n",
       "    <tr>\n",
       "      <th>305</th>\n",
       "      <td>24</td>\n",
       "    </tr>\n",
       "    <tr>\n",
       "      <th>306</th>\n",
       "      <td>45</td>\n",
       "    </tr>\n",
       "    <tr>\n",
       "      <th>307</th>\n",
       "      <td>102</td>\n",
       "    </tr>\n",
       "    <tr>\n",
       "      <th>308</th>\n",
       "      <td>43</td>\n",
       "    </tr>\n",
       "    <tr>\n",
       "      <th>...</th>\n",
       "      <td>...</td>\n",
       "    </tr>\n",
       "    <tr>\n",
       "      <th>1016</th>\n",
       "      <td>17</td>\n",
       "    </tr>\n",
       "    <tr>\n",
       "      <th>1018</th>\n",
       "      <td>14</td>\n",
       "    </tr>\n",
       "    <tr>\n",
       "      <th>1019</th>\n",
       "      <td>16</td>\n",
       "    </tr>\n",
       "    <tr>\n",
       "      <th>1022</th>\n",
       "      <td>115</td>\n",
       "    </tr>\n",
       "    <tr>\n",
       "      <th>1023</th>\n",
       "      <td>43</td>\n",
       "    </tr>\n",
       "  </tbody>\n",
       "</table>\n",
       "<p>66 rows × 1 columns</p>\n",
       "</div>"
      ],
      "text/plain": [
       "             ObjectNumber\n",
       "ImageNumber              \n",
       "105                     1\n",
       "305                    24\n",
       "306                    45\n",
       "307                   102\n",
       "308                    43\n",
       "...                   ...\n",
       "1016                   17\n",
       "1018                   14\n",
       "1019                   16\n",
       "1022                  115\n",
       "1023                   43\n",
       "\n",
       "[66 rows x 1 columns]"
      ]
     },
     "execution_count": 2,
     "metadata": {},
     "output_type": "execute_result"
    }
   ],
   "source": [
    "df[df[MEASUREMENT] >= avg][cols].groupby('ImageNumber').agg({'ObjectNumber':'max'})"
   ]
  },
  {
   "cell_type": "code",
   "execution_count": null,
   "metadata": {},
   "outputs": [],
   "source": []
  }
 ],
 "metadata": {
  "kernelspec": {
   "display_name": "Python 3",
   "language": "python",
   "name": "python3"
  },
  "language_info": {
   "codemirror_mode": {
    "name": "ipython",
    "version": 3
   },
   "file_extension": ".py",
   "mimetype": "text/x-python",
   "name": "python",
   "nbconvert_exporter": "python",
   "pygments_lexer": "ipython3",
   "version": "3.7.6"
  }
 },
 "nbformat": 4,
 "nbformat_minor": 4
}
