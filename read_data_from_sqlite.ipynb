{
 "cells": [
  {
   "cell_type": "code",
   "execution_count": null,
   "id": "e3b2a32e",
   "metadata": {},
   "outputs": [],
   "source": [
    "import pandas as pd\n",
    "import sqlite3\n",
    "\n",
    "dbfile = \"/mnt/lmu_active1/users/l/lyu/CellProfiler/output/DefaultDB.db\"\n",
    "table_obj = \"MyExpt_Per_Object\"\n",
    "table_img = \"MyExpt_Per_Image\"\n"
   ]
  },
  {
   "cell_type": "code",
   "execution_count": null,
   "id": "c8cf9282",
   "metadata": {},
   "outputs": [],
   "source": [
    "# Read sqlite query results into a pandas DataFrame\n",
    "con = sqlite3.connect(dbfile)\n",
    "\n",
    "#df1 = pd.read_sql_query(\"SELECT * from %s;\"%(table_obj,), con)\n",
    "df2 = pd.read_sql_query(\"SELECT * from %s INNER JOIN %s ON %s.ImageNumber=%s.ImageNumber;\"%(table_obj,table_img,table_obj,table_img), con)\n",
    "\n",
    "# Verify that result of SQL query is stored in the dataframe\n",
    "#print(df2.head())\n",
    "#print(df1.shape)\n",
    "print(df2.shape)\n",
    "\n",
    "con.close()\n",
    "\n",
    "for c in df2.columns:\n",
    "    print(c)"
   ]
  },
  {
   "cell_type": "code",
   "execution_count": null,
   "id": "d05c573c",
   "metadata": {},
   "outputs": [],
   "source": [
    "# columns to group the results by\n",
    "group_cols = ['Metadata_Plate', 'Metadata_Well']\n",
    "\n",
    "# exclude these from averaging\n",
    "exclude_cols = ['ImageNumber', 'ObjectNumber', 'Metadata_']\n",
    "\n",
    "measurements = [k for k in list(df.columns.values) if not k.startswith(tuple(exclude_cols))]\n",
    "\n"
   ]
  },
  {
   "cell_type": "code",
   "execution_count": null,
   "id": "8796734e",
   "metadata": {},
   "outputs": [],
   "source": []
  }
 ],
 "metadata": {
  "kernelspec": {
   "display_name": "Python 3",
   "language": "python",
   "name": "python3"
  },
  "language_info": {
   "codemirror_mode": {
    "name": "ipython",
    "version": 3
   },
   "file_extension": ".py",
   "mimetype": "text/x-python",
   "name": "python",
   "nbconvert_exporter": "python",
   "pygments_lexer": "ipython3",
   "version": "3.8.8"
  }
 },
 "nbformat": 4,
 "nbformat_minor": 5
}
