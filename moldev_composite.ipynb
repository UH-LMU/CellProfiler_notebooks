{
 "cells": [
  {
   "cell_type": "markdown",
   "id": "f28f9c25",
   "metadata": {},
   "source": [
    "## Usage\n",
    "- Edit the settings in the cell below.\n",
    "- Cell -> Run All.\n",
    "- A Napari window will open, where you can scroll through your data."
   ]
  },
  {
   "cell_type": "code",
   "execution_count": null,
   "id": "f02bd58b",
   "metadata": {},
   "outputs": [],
   "source": [
    "import matplotlib.pyplot as plt\n",
    "import napari\n",
    "import numpy as np\n",
    "import pandas as pd\n",
    "\n",
    "from aicsimageio.aics_image import AICSImage\n",
    "from pathlib import Path\n",
    "\n",
    "# change this to point to your plate\n",
    "plate = 'lyu/140324-A53T P62 staining/140324-A53T P62 staining/2024-03-27/20378/TimePoint_1'\n",
    "\n",
    "# change lmu_active1 root folder depending on Linux vs. Windows\n",
    "lmu_active1 = Path('/mnt/lmu_active1')\n",
    "#lmu_active1 = Path('L:\\lmu_active1')\n",
    "\n",
    "# define colors you want to use (as many as you have channels)\n",
    "#colormap = [\"yellow\", \"magenta\", \"cyan\"]\n",
    "colormap = [\"blue\", \"green\", \"red\"]"
   ]
  },
  {
   "cell_type": "markdown",
   "id": "bdbd4b64",
   "metadata": {},
   "source": [
    "## Code\n",
    "You don't need to make changes in the code cells below. "
   ]
  },
  {
   "cell_type": "code",
   "execution_count": null,
   "id": "014168b3",
   "metadata": {},
   "outputs": [],
   "source": [
    "# original image folder\n",
    "orig = lmu_active1 / Path('instruments/Nano') / Path(plate)\n",
    "\n",
    "# csv file with image sets (all channels on same row)\n",
    "airflow = lmu_active1 / Path('airflow/nano')\n",
    "plate_fixed = plate.replace(' ', '_')\n",
    "csv = airflow / Path(plate_fixed) / Path('quality/Combined_MyExpt_Image.csv')\n",
    "\n",
    "df = pd.read_csv(csv)\n",
    "df.Metadata_Plate = df.Metadata_Plate.astype(str)\n",
    "df.Metadata_Well = df.Metadata_Well.astype(str)\n",
    "df.Metadata_Site = df.Metadata_Site.astype(int)\n",
    "df.sort_values(by=['Metadata_Plate', 'Metadata_Well', 'Metadata_Site'], inplace=True, ignore_index=True)"
   ]
  },
  {
   "cell_type": "code",
   "execution_count": null,
   "id": "c62cff2a",
   "metadata": {},
   "outputs": [],
   "source": [
    "filename_cols = [c for c in df.columns if c.startswith('FileName')]\n",
    "filename_cols"
   ]
  },
  {
   "cell_type": "code",
   "execution_count": null,
   "id": "df807522",
   "metadata": {},
   "outputs": [],
   "source": [
    "wavelengths = [c.replace('FileName_', '') for c in filename_cols]\n",
    "wavelengths"
   ]
  },
  {
   "cell_type": "code",
   "execution_count": null,
   "id": "b3b44f12",
   "metadata": {},
   "outputs": [],
   "source": [
    "metadata_cols = [c for c in df.columns if c.startswith('Metadata')]\n",
    "metadata_cols"
   ]
  },
  {
   "cell_type": "code",
   "execution_count": null,
   "id": "b53de445",
   "metadata": {},
   "outputs": [],
   "source": [
    "filenames = df[filename_cols]\n",
    "print(filenames.shape)\n",
    "filenames.head()\n"
   ]
  },
  {
   "cell_type": "code",
   "execution_count": null,
   "id": "ebe79544",
   "metadata": {},
   "outputs": [],
   "source": [
    "import dask.array as da\n",
    "import numpy as np\n",
    "\n",
    "def concat_da(selection, filename_cols, directory):\n",
    "    da_out = None\n",
    "    sites = []\n",
    "    for index, row in selection.iterrows():\n",
    "        channels = []\n",
    "        for f in filename_cols:\n",
    "            path = directory / row[f]\n",
    "            #print(str(path))\n",
    "            img = AICSImage(path)\n",
    "            #channels.append(img.data)\n",
    "            channels.append(img.get_image_dask_data())\n",
    "            #print(img.get_image_dask_data().shape)\n",
    "        site = da.concatenate(channels, axis=2)\n",
    "        sites.append(site)\n",
    "\n",
    "    da_out = da.concatenate(sites, axis=0)\n",
    "    return da_out\n",
    "\n"
   ]
  },
  {
   "cell_type": "code",
   "execution_count": null,
   "id": "7dc5330d",
   "metadata": {},
   "outputs": [],
   "source": [
    "A_out = concat_da(filenames, filename_cols, orig)\n",
    "print(A_out.shape)"
   ]
  },
  {
   "cell_type": "code",
   "execution_count": null,
   "id": "3839494b",
   "metadata": {},
   "outputs": [],
   "source": [
    "from qtpy.QtWidgets import QLabel, QWidget, QVBoxLayout\n",
    "\n",
    "viewer = napari.view_image(\n",
    "        A_out,\n",
    "        channel_axis=2,\n",
    "        name=wavelengths,\n",
    "        colormap=colormap,\n",
    "        contrast_limits=[[200, 4095], [500, 4095], [200, 4095]],\n",
    "        )\n",
    "\n",
    "# Create a custom widget to display the stack index\n",
    "class StackIndexWidget(QWidget):\n",
    "    def __init__(self):\n",
    "        super().__init__()\n",
    "        self.label = QLabel(\"Current stack index: 0\")\n",
    "        #self.label_file = QLabel(\"Filename w1\")\n",
    "        self.label_plate = QLabel(\"Metadata_Plate: N/A\")\n",
    "        self.label_well = QLabel(\"Metadata_Well: N/A\")\n",
    "        self.label_site = QLabel(\"Metadata_Site: N/A\")\n",
    "        layout = QVBoxLayout()\n",
    "        layout.addWidget(self.label)\n",
    "        #layout.addWidget(self.label_file)\n",
    "        layout.addWidget(self.label_plate)\n",
    "        layout.addWidget(self.label_well)\n",
    "        layout.addWidget(self.label_site)\n",
    "        self.setLayout(layout)\n",
    "\n",
    "    def update_index(self, index):\n",
    "        self.label.setText(f\"Current stack index: {index}\")\n",
    "        #self.label_file.setText(f\"Filename w1: {df.loc[index, 'FileName_w1']}\")\n",
    "        self.label_plate.setText(f\"Metadata_Plate: {df.loc[index, 'Metadata_Plate']}\")\n",
    "        self.label_well.setText(f\"Metadata_Well: {df.loc[index, 'Metadata_Well']}\")\n",
    "        self.label_site.setText(f\"Metadata_Site: {df.loc[index, 'Metadata_Site']}\")\n",
    "\n",
    "# Instantiate the custom widget\n",
    "stack_index_widget = StackIndexWidget()\n",
    "\n",
    "# Add the widget to Napari as a dock widget\n",
    "viewer.window.add_dock_widget(stack_index_widget, name=\"Stack Index\")\n",
    "\n",
    "# Callback function to update the widget with the current stack index\n",
    "def on_index_change(event):\n",
    "    current_index = viewer.dims.current_step[0]\n",
    "    stack_index_widget.update_index(current_index)\n",
    "\n",
    "# Connect the callback to the dims event\n",
    "viewer.dims.events.current_step.connect(on_index_change)\n"
   ]
  },
  {
   "cell_type": "code",
   "execution_count": null,
   "id": "706d25d6",
   "metadata": {},
   "outputs": [],
   "source": []
  }
 ],
 "metadata": {
  "kernelspec": {
   "display_name": "Python 3 (ipykernel)",
   "language": "python",
   "name": "python3"
  },
  "language_info": {
   "codemirror_mode": {
    "name": "ipython",
    "version": 3
   },
   "file_extension": ".py",
   "mimetype": "text/x-python",
   "name": "python",
   "nbconvert_exporter": "python",
   "pygments_lexer": "ipython3",
   "version": "3.8.19"
  }
 },
 "nbformat": 4,
 "nbformat_minor": 5
}
