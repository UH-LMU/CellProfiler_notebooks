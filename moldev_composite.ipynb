{
 "cells": [
  {
   "cell_type": "markdown",
   "id": "f28f9c25",
   "metadata": {},
   "source": [
    "## Usage\n",
    "- Edit the settings in the cell below.\n",
    "- Cell -> Run All.\n",
    "- A Napari window will open, where you can scroll through your data."
   ]
  },
  {
   "cell_type": "code",
   "execution_count": null,
   "id": "f02bd58b",
   "metadata": {},
   "outputs": [],
   "source": [
    "\n",
    "# change this to point to your plate as seen in lmu_active1/instruments/Nano\n",
    "plate = 'lyu/140324-A53T P62 staining/140324-A53T P62 staining/2024-03-27/20378/TimePoint_1'\n",
    "plate = 'karkkael/microwell images/Plate1/2024-09-23/1/TimePoint_1/'\n",
    "\n",
    "# set lmu_active1 root folder for Linux or Windows\n",
    "#lmu_active1 = Path('/mnt/lmu_active1') # Linux\n",
    "#lmu_active1 = Path('L:\\lmu_active1') # Windows\n",
    "\n",
    "# define colors you want to use (as many as you have channels)\n",
    "#colormap = [\"yellow\", \"magenta\", \"cyan\"]\n",
    "colormap = [\"blue\", \"green\", \"red\"]\n",
    "colormap = [\"blue\", \"green\", \"red\", \"magenta\"]\n"
   ]
  },
  {
   "cell_type": "markdown",
   "id": "bdbd4b64",
   "metadata": {},
   "source": [
    "## Code\n",
    "You don't need to make changes in the code cells below. "
   ]
  },
  {
   "cell_type": "code",
   "execution_count": null,
   "id": "014168b3",
   "metadata": {},
   "outputs": [],
   "source": [
    "from aicsimageio.aics_image import AICSImage\n",
    "from pathlib import Path\n",
    "import matplotlib.pyplot as plt\n",
    "import napari\n",
    "import numpy as np\n",
    "import os\n",
    "import pandas as pd\n",
    "import platform\n",
    "\n",
    "def get_lmu_active1():\n",
    "    current_os = platform.system()\n",
    "    \n",
    "    if current_os == \"Windows\":\n",
    "        return \"L:\\\\lmu_active1\"\n",
    "    elif current_os == \"Linux\":\n",
    "        return \"/mnt/lmu_active1\"\n",
    "    else:\n",
    "        raise ValueError(f\"Unsupported operating system: {current_os}\")\n",
    "        \n",
    "# original image folder\n",
    "orig = get_lmu_active1() / Path('instruments/Nano') / Path(plate)\n",
    "orig = Path('/home/user/nanodata') / Path(plate)\n",
    "orig = Path('/home/hajaalin/data/micro') / Path(plate)\n"
   ]
  },
  {
   "cell_type": "code",
   "execution_count": null,
   "id": "57eadaf3",
   "metadata": {},
   "outputs": [],
   "source": [
    "files = [(str(x),x.parent,x.name) for x in orig.glob(\"**/*.tif\") if not \"thumb\" in x.name]\n",
    "df = pd.DataFrame(files, columns=['Path','DirName','FileName'])\n",
    "\n",
    "files = [(str(x)) for x in orig.glob(\"**/*.tif\") if not \"thumb\" in x.name]\n",
    "#files = ['/home/user/data/ael/microwell images/Plate1/2024-09-23/1/TimePoint_1/ZStep_9/Plate1_E05_s2_w1D10A7B39-96B7-4967-8EC6-22EA232A7725.tif']\n",
    "df = pd.DataFrame(files, columns=['Path'])\n",
    "\n",
    "print(files[-1])\n",
    "df.head()\n",
    "\n",
    "DATE = 'Date'\n",
    "TIMEPOINT = 'TimePoint'\n",
    "ZSTEP = 'ZStep'\n",
    "PLATE = 'Plate'\n",
    "WELL = 'Well'\n",
    "SITE = 'Site'\n",
    "CHANNEL = 'Channel'\n",
    "\n",
    "metadata_columns = {\n",
    "    'mc1': DATE,\n",
    "    'mc2': TIMEPOINT,\n",
    "    'mc3': ZSTEP,\n",
    "    'mc4': PLATE,\n",
    "    'mc5': WELL,\n",
    "    'mc6': SITE,\n",
    "    'mc7': CHANNEL\n",
    "}\n",
    "# Regular expression pattern\n",
    "pattern = r'.*/(?P<Date>\\d\\d\\d\\d-\\d\\d-\\d\\d)/[^/]*/TimePoint_(?P<TimePoint>\\d+)/(?:ZStep_(?P<ZStep>\\d+)/)?(?P<Plate>[^_]*)_(?P<Well>\\w\\d{2})_s(?P<Site>\\d)_(?P<Wavelength>w\\d)'\n",
    "\n",
    "# Cross-platform pattern with dynamic column names\n",
    "pattern = r'.*[/\\\\](?P<{mc1}>\\d{{4}}-\\d{{2}}-\\d{{2}})[/\\\\][^/\\\\]*[/\\\\]TimePoint_(?P<{mc2}>\\d+)(?:[/\\\\]ZStep_(?P<{mc3}>\\d+))?[/\\\\](?P<{mc4}>[^_]+)_(?P<{mc5}>\\w\\d{{2}})_s(?P<{mc6}>\\d)_(?P<{mc7}>w\\d)'.format(**metadata_columns)\n",
    "\n",
    "# Apply the regex pattern and extract the desired columns\n",
    "df_extracted = df['Path'].str.extract(pattern)\n",
    "print()\n",
    "\n",
    "# Add the extracted columns back to the original dataframe\n",
    "df = df.join(df_extracted)\n",
    "\n",
    "# Show the result\n",
    "df.head()"
   ]
  },
  {
   "cell_type": "code",
   "execution_count": null,
   "id": "07d5b75a",
   "metadata": {},
   "outputs": [],
   "source": [
    "df.tail()"
   ]
  },
  {
   "cell_type": "code",
   "execution_count": null,
   "id": "f395caee",
   "metadata": {},
   "outputs": [],
   "source": [
    "files[-1]"
   ]
  },
  {
   "cell_type": "code",
   "execution_count": null,
   "id": "df807522",
   "metadata": {},
   "outputs": [],
   "source": [
    "wavelengths = sorted(df.Channel.unique())\n",
    "wavelengths"
   ]
  },
  {
   "cell_type": "code",
   "execution_count": null,
   "id": "b3b44f12",
   "metadata": {},
   "outputs": [],
   "source": [
    "metadata_cols = metadata_columns.values()\n",
    "metadata_cols"
   ]
  },
  {
   "cell_type": "code",
   "execution_count": null,
   "id": "d8225cc4",
   "metadata": {},
   "outputs": [],
   "source": [
    "mask = df[ZSTEP].isnull()\n",
    "df2d = df[mask].copy().reset_index(drop=True)\n",
    "df3d = df[~mask].copy().reset_index(drop=True)\n",
    "df3d[ZSTEP] = df3d[ZSTEP].astype(int)\n",
    "\n",
    "df2d.sort_values(by=[PLATE, WELL, SITE, CHANNEL], inplace=True, ignore_index=True)\n",
    "df3d.sort_values(by=[PLATE, WELL, SITE, ZSTEP, CHANNEL], inplace=True, ignore_index=True)\n",
    "df3d.head()"
   ]
  },
  {
   "cell_type": "code",
   "execution_count": null,
   "id": "93ad7399",
   "metadata": {},
   "outputs": [],
   "source": [
    "grouped2d = df2d.groupby(by=[PLATE, WELL, SITE]).agg(list)\n",
    "grouped2d"
   ]
  },
  {
   "cell_type": "code",
   "execution_count": null,
   "id": "bf09a221",
   "metadata": {},
   "outputs": [],
   "source": [
    "grouped3d = df3d.groupby(by=[PLATE, WELL, SITE]).agg(list)\n",
    "grouped3d"
   ]
  },
  {
   "cell_type": "code",
   "execution_count": null,
   "id": "ebe79544",
   "metadata": {},
   "outputs": [],
   "source": [
    "import dask.array as da\n",
    "import numpy as np\n",
    "\n",
    "def concat_da2d(selection, filename_cols, directory):\n",
    "    da_out = None\n",
    "    sites = []\n",
    "    for index, row in selection.iterrows():\n",
    "        channels = []\n",
    "        for f in filename_cols:\n",
    "            path = directory / row[f]\n",
    "            #print(str(path))\n",
    "            img = AICSImage(path)\n",
    "            #channels.append(img.data)\n",
    "            channels.append(img.get_image_dask_data())\n",
    "            #print(img.get_image_dask_data().shape)\n",
    "        site = da.concatenate(channels, axis=2)\n",
    "        sites.append(site)\n",
    "\n",
    "    da_out = da.concatenate(sites, axis=0)\n",
    "    return da_out\n",
    "\n"
   ]
  },
  {
   "cell_type": "code",
   "execution_count": null,
   "id": "abea7d37",
   "metadata": {},
   "outputs": [],
   "source": [
    "import dask.array as da\n",
    "\n",
    "dask_arrays = {}\n",
    "index_map = {}\n",
    "\n",
    "def channels2da(directory, filenames):\n",
    "    return da.stack([AICSImage(directory / f).get_image_dask_data() for f in filenames])\n",
    "    \n",
    "for (plate, well, site), group in grouped3d.iterrows():\n",
    "    # Assuming the file paths for the Z-slices are in group['file_paths']\n",
    "    dask_array = da.stack([channels2da(orig, fileset) for fileset in group[filename_cols]])\n",
    "    \n",
    "    # Store the Dask array and its corresponding index\n",
    "    dask_arrays[(well, site)] = dask_array\n",
    "    index_map[(well, site)] = len(dask_arrays) - 1  # Map (well, site) to Dask array index\n"
   ]
  },
  {
   "cell_type": "code",
   "execution_count": null,
   "id": "7dc5330d",
   "metadata": {},
   "outputs": [],
   "source": [
    "A_out = concat_da2d(df2d, filename_cols, orig)\n",
    "print(A_out.shape)"
   ]
  },
  {
   "cell_type": "code",
   "execution_count": null,
   "id": "3839494b",
   "metadata": {},
   "outputs": [],
   "source": [
    "from qtpy.QtWidgets import QLabel, QWidget, QVBoxLayout\n",
    "\n",
    "viewer = napari.view_image(\n",
    "        A_out,\n",
    "        channel_axis=2,\n",
    "        name=wavelengths,\n",
    "        colormap=colormap,\n",
    "        #contrast_limits=[[200, 4095], [500, 4095], [200, 4095]],\n",
    "        )\n",
    "\n",
    "# Create a custom widget to display the stack index\n",
    "class StackIndexWidget(QWidget):\n",
    "    def __init__(self):\n",
    "        super().__init__()\n",
    "        self.label = QLabel(\"Current stack index: 0\")\n",
    "        #self.label_file = QLabel(\"Filename w1\")\n",
    "        self.label_plate = QLabel(\"Plate: N/A\")\n",
    "        self.label_well = QLabel(\"Well: N/A\")\n",
    "        self.label_site = QLabel(\"Site: N/A\")\n",
    "        layout = QVBoxLayout()\n",
    "        layout.addWidget(self.label)\n",
    "        #layout.addWidget(self.label_file)\n",
    "        layout.addWidget(self.label_plate)\n",
    "        layout.addWidget(self.label_well)\n",
    "        layout.addWidget(self.label_site)\n",
    "        self.setLayout(layout)\n",
    "\n",
    "    def update_index(self, index):\n",
    "        self.label.setText(f\"Current stack index: {index}\")\n",
    "        #self.label_file.setText(f\"Filename w1: {df.loc[index, 'FileName_w1']}\")\n",
    "        self.label_plate.setText(f\"Plate: {df.loc[index, PLATE]}\")\n",
    "        self.label_well.setText(f\"Well: {df.loc[index, WELL]}\")\n",
    "        self.label_site.setText(f\"Site: {df.loc[index, SITE]}\")\n",
    "\n",
    "# Instantiate the custom widget\n",
    "stack_index_widget = StackIndexWidget()\n",
    "\n",
    "# Add the widget to Napari as a dock widget\n",
    "viewer.window.add_dock_widget(stack_index_widget, name=\"Stack Index\")\n",
    "\n",
    "# Callback function to update the widget with the current stack index\n",
    "def on_index_change(event):\n",
    "    current_index = viewer.dims.current_step[0]\n",
    "    stack_index_widget.update_index(current_index)\n",
    "\n",
    "# Connect the callback to the dims event\n",
    "viewer.dims.events.current_step.connect(on_index_change)\n"
   ]
  },
  {
   "cell_type": "code",
   "execution_count": null,
   "id": "706d25d6",
   "metadata": {},
   "outputs": [],
   "source": []
  }
 ],
 "metadata": {
  "kernelspec": {
   "display_name": "Python 3 (ipykernel)",
   "language": "python",
   "name": "python3"
  },
  "language_info": {
   "codemirror_mode": {
    "name": "ipython",
    "version": 3
   },
   "file_extension": ".py",
   "mimetype": "text/x-python",
   "name": "python",
   "nbconvert_exporter": "python",
   "pygments_lexer": "ipython3",
   "version": "3.10.14"
  }
 },
 "nbformat": 4,
 "nbformat_minor": 5
}
