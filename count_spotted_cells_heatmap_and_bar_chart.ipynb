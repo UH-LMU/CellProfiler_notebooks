{
 "cells": [
  {
   "cell_type": "code",
   "execution_count": null,
   "metadata": {},
   "outputs": [],
   "source": [
    "import matplotlib.pyplot as plt\n",
    "import os\n",
    "import pandas as pd\n",
    "\n",
    "workdir = \"/work/data/apaatero/output/20200309\"#/testD5_HJ\"\n",
    "#filename = \"MyExpt_CellsN10.csv\"\n",
    "filename = \"test_D5CellsN10.csv\"\n",
    "basename, extension = os.path.splitext(filename)\n",
    "\n",
    "df = pd.read_csv(os.path.join(workdir, filename))\n",
    "#df.head()"
   ]
  },
  {
   "cell_type": "code",
   "execution_count": null,
   "metadata": {},
   "outputs": [],
   "source": [
    "df.drop(['Metadata_ChannelNumber', 'Metadata_FileLocation', 'Metadata_Frame', 'Metadata_Site', 'Metadata_Series'], axis=1, inplace=True)\n",
    "\n",
    "# columns to group the results by\n",
    "group_cols = ['Metadata_Plate', 'Metadata_Well', 'ImageNumber']\n",
    "\n",
    "# https://stackoverflow.com/questions/45752601/how-to-do-a-conditional-count-after-groupby-on-a-pandas-dataframe\n",
    "#df11=df.groupby(group_cols)['Children_Spots_Count'].apply(lambda x: (x>0).sum()).reset_index(name='cells_with_spots')\n",
    "#df12=df.groupby(group_cols)['Children_Spots_Count'].apply(lambda x: (x==0).sum()).reset_index(name='cells_with_no_spots')\n",
    "\n",
    "aggs = {'ObjectNumber': 'count', \\\n",
    "        'Classify_nospots': 'sum', \\\n",
    "        'Classify_spots': 'sum'}\n",
    "\n",
    "# group cells by plate and well, aggregate by counting rows\n",
    "totals_by_image = df.groupby(group_cols).agg(aggs).reset_index()\n",
    "\n",
    "# rename object number columns\n",
    "totals_by_image.rename(columns={\"ObjectNumber\": \"Total cells\"}, inplace=True)\n",
    "totals_by_image.rename(columns={\"Classify_nospots\": \"Cells with spots\"}, inplace=True)\n",
    "totals_by_image.rename(columns={\"Classify_spots\": \"Spotted cells\"}, inplace=True)\n",
    "\n",
    "totals_by_image['Spotted fraction'] = totals_by_image['Spotted cells'] / totals_by_image['Total cells']\n",
    "print(totals_by_image[0:3])"
   ]
  },
  {
   "cell_type": "code",
   "execution_count": null,
   "metadata": {},
   "outputs": [],
   "source": [
    "aggs = { \\\n",
    "       'Total cells': 'sum', \\\n",
    "       'Spotted cells': 'sum', \\\n",
    "       'Spotted fraction': ['mean','sem']}\n",
    "totals_by_well = totals_by_image.groupby(['Metadata_Plate', 'Metadata_Well']).agg(aggs).reset_index()\n",
    "totals_by_well"
   ]
  },
  {
   "cell_type": "code",
   "execution_count": null,
   "metadata": {},
   "outputs": [],
   "source": [
    "import numpy as np\n",
    "\n",
    "df2 = totals_by_well\n",
    "\n",
    "df2['row'] = df2['Metadata_Well'].str[0:1]\n",
    "df2['col'] = df2['Metadata_Well'].str[1:4]\n",
    "\n",
    "cols = [1,2,3,4,5,6,7,8,9,10,11,12]\n",
    "rows = ['A', 'B', 'C','D','E','F','G','H'] \n",
    "plate = np.empty((len(rows),len(cols)))\n",
    "\n",
    "measurement = []\n",
    "\n",
    "for r in rows:\n",
    "    for c in cols:\n",
    "        #print(rows[r] + \" \" + cols[c])\n",
    "        ir = rows.index(r)\n",
    "        c_zfill = str(c).zfill(2)\n",
    "        value = df2[(df2['row'] == r) & (df2['col'] == c_zfill)]['Spotted fraction','mean']\n",
    "        if value.size != 0:\n",
    "            plate[ir][c-1] = value\n",
    "        else:\n",
    "            plate[ir][c-1] = None\n",
    "            \n",
    "import plotly.graph_objects as go\n",
    "\n",
    "fig = go.Figure(data=go.Heatmap(\n",
    "                    x=cols,\n",
    "                    y=rows,\n",
    "                    z=plate,\n",
    "                    hoverongaps = False))\n",
    "fig.update_xaxes(tick0=1, dtick=1)\n",
    "fig.update_yaxes(tick0=1, dtick=1)\n",
    "fig.update_layout(xaxis_showgrid=False, yaxis_showgrid=False)\n",
    "fig.update_yaxes(autorange=\"reversed\")\n",
    "fig.update_layout(title_text='Spotted fraction mean')\n",
    "\n",
    "fig.show()"
   ]
  },
  {
   "cell_type": "code",
   "execution_count": null,
   "metadata": {},
   "outputs": [],
   "source": [
    "import plotly.express as px\n",
    "\n",
    "df2['sf'] = df2['Spotted fraction','mean']\n",
    "df2['error'] = df2['Spotted fraction','sem']\n",
    "\n",
    "# pick interesting wells\n",
    "wells = ['C05','D05','F03']\n",
    "df2 = df2[df2['Metadata_Well'].isin(wells)]\n",
    "\n",
    "fig = px.bar(df2, y='sf', error_y='error', x='Metadata_Well', text='error', \\\n",
    "            labels={'sf':'Fraction of cells with spots','Metadata_Well':'Well'})\n",
    "#fig.update_traces(texttemplate='%{text:.2s}', textposition='outside')\n",
    "fig.update_layout(uniformtext_minsize=8, uniformtext_mode='hide')\n",
    "fig.show()"
   ]
  },
  {
   "cell_type": "code",
   "execution_count": null,
   "metadata": {},
   "outputs": [],
   "source": [
    "df2"
   ]
  },
  {
   "cell_type": "code",
   "execution_count": null,
   "metadata": {},
   "outputs": [],
   "source": []
  }
 ],
 "metadata": {
  "kernelspec": {
   "display_name": "Python 3",
   "language": "python",
   "name": "python3"
  },
  "language_info": {
   "codemirror_mode": {
    "name": "ipython",
    "version": 3
   },
   "file_extension": ".py",
   "mimetype": "text/x-python",
   "name": "python",
   "nbconvert_exporter": "python",
   "pygments_lexer": "ipython3",
   "version": "3.7.7"
  }
 },
 "nbformat": 4,
 "nbformat_minor": 2
}
