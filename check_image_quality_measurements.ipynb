{
 "cells": [
  {
   "cell_type": "code",
   "execution_count": null,
   "metadata": {},
   "outputs": [],
   "source": [
    "import matplotlib.pyplot as plt\n",
    "import pandas as pd\n",
    "\n",
    "df = pd.read_excel('Ki060720Again_Image.xls')\n",
    "\n",
    "fig = plt.figure(figsize=(25,125))\n",
    "i = 1\n",
    "for c in df.columns:\n",
    "    if c.startswith('ImageQuality'):\n",
    "        ax = fig.add_subplot(16,3,i)\n",
    "        print(c + \" \" + str(i))\n",
    "        df.hist(column=c, bins=30, ax=ax)\n",
    "        i+=1\n",
    "#print(i)\n",
    "plt.show()"
   ]
  },
  {
   "cell_type": "code",
   "execution_count": null,
   "metadata": {},
   "outputs": [],
   "source": [
    "df2 = df[(df['ImageQuality_MedianIntensity_A549'] < 0.005) \\\n",
    "         &(df['ImageQuality_MADIntensity_A549'] < 0.001) \\\n",
    "         &(df['ImageQuality_MADIntensity_DAPI'] < 0.005) \\\n",
    "         &(df['ImageQuality_StdIntensity_A549'] < 0.005) \\\n",
    "         &(df['ImageQuality_StdIntensity_A647'] < 0.002) \\\n",
    "         &(df['ImageQuality_ThresholdOtsu_A549_2W'] < 0.015) \\\n",
    "         &(df['ImageQuality_TotalIntensity_A549'] < 22500)]\n",
    "\n",
    "print(df.shape)\n",
    "print(df2.shape)\n",
    "print(df2.shape[0] / df.shape[0])\n",
    "\n",
    "removed = df[~df['FileName_A549'].isin(df2['FileName_A549'].values)]\n",
    "print(removed.shape)\n",
    "print(removed['FileName_A549'].values)"
   ]
  },
  {
   "cell_type": "code",
   "execution_count": null,
   "metadata": {},
   "outputs": [],
   "source": [
    "df.head()"
   ]
  },
  {
   "cell_type": "code",
   "execution_count": null,
   "metadata": {},
   "outputs": [],
   "source": []
  }
 ],
 "metadata": {
  "kernelspec": {
   "display_name": "Python 3",
   "language": "python",
   "name": "python3"
  },
  "language_info": {
   "codemirror_mode": {
    "name": "ipython",
    "version": 3
   },
   "file_extension": ".py",
   "mimetype": "text/x-python",
   "name": "python",
   "nbconvert_exporter": "python",
   "pygments_lexer": "ipython3",
   "version": "3.7.7"
  }
 },
 "nbformat": 4,
 "nbformat_minor": 4
}
