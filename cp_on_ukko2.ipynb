{
 "cells": [
  {
   "cell_type": "markdown",
   "metadata": {},
   "source": [
    "# CellProfiler on Ukko2\n",
    "This notebook contains cells that implement tasks that you need to do to get CellProfiler running on Ukko2, and for collecting the results.\n",
    "\n",
    "The variables you set in cell \"Project settings\" affect also the cells below. \n",
    "\n",
    "## Mounting Ukko2 folders on the local computer\n",
    "\n",
    "On Linux (and probably also on Mac) you can use sshfs:\n",
    "```\n",
    "mkdir /home/hajaalin/ukko2-proj\n",
    "mkdir /home/hajaalin/ukko2-wrk/\n",
    "sshfs ukko2.cs.helsinki.fi:/wrk/hajaalin /home/hajaalin/ukko2-wrk/\n",
    "sshfs ukko2.cs.helsinki.fi:/proj/hajaalin /home/hajaalin/ukko2-proj/\n",
    "\n",
    "```\n",
    "On Windows:\n",
    "- To mount \\$WRKDIR, type \\\\\\\\ukko2-smb.cs.helsinki.fi\\\\YOUR_UH_USERNAME in File Explorer.\n",
    "\n",
    "- To mount \\$PROJ, type \\\\\\\\nas-fs2.cs.helsinki.fi\\\\proj\\\\YOUR_UH_USERNAME in File Explorer."
   ]
  },
  {
   "cell_type": "markdown",
   "metadata": {},
   "source": [
    "## Project settings\n",
    "You might change these back and forth between different projects/runs as you run the cells below."
   ]
  },
  {
   "cell_type": "code",
   "execution_count": 9,
   "metadata": {},
   "outputs": [
    {
     "name": "stdout",
     "output_type": "stream",
     "text": [
      "/wrk/hajaalin/output/CellProfiler/tskarhu/20190212d\n"
     ]
    }
   ],
   "source": [
    "from jinja2 import Environment, FileSystemLoader\n",
    "from pathlib import Path,PosixPath,PurePosixPath,PureWindowsPath,WindowsPath\n",
    "import os\n",
    "import pandas as pd\n",
    "import shutil\n",
    "\n",
    "# True if you are working on a Windows computer, otherwise False.\n",
    "Windows = False\n",
    "\n",
    "user = 'hajaalin'\n",
    "email = 'harri.jaalinoja@helsinki.fi'\n",
    "\n",
    "if Windows:\n",
    "    # this is where the results will be copied on the local machine\n",
    "    results_root_local = WindowsPath('E:/temp/%s' % (user))\n",
    "    # data location mappings, same as specified in CreateBatchFiles\n",
    "    path_mappings = {PurePosixPath('/wrk/hajaalin/data/tskarhu') : \\\n",
    "                     PureWindowsPath('L:/biotek-groups2/lmu/instruments/Nano/MDCStore/tskarhu')}\n",
    "    # If you specify a file here, it will be copied to the same directory with the sbatch script.\n",
    "    cp_batch_data = WindowsPath('E:/temp/Batch_data.h5')\n",
    "else:\n",
    "    results_root_local = PosixPath('/home/%s/tmp/cp_on_ukko2' % (user))\n",
    "    path_mappings = {PurePosixPath('/wrk/hajaalin/data/tskarhu') : \\\n",
    "                     PurePosixPath('/mnt/lmu-netapp/instruments/Nano/MDCStore/tskarhu')}\n",
    "    cp_batch_data = PosixPath('/home/%s/tmp/Batch_data.h5' % (user))\n",
    "    \n",
    "project = 'tskarhu'\n",
    "run = '20190206b'\n",
    "run = '20190207a'\n",
    "run = '20190214a'\n",
    "run = '20190212d'\n",
    "\n",
    "# number of wells and sites per well\n",
    "nwells = 36\n",
    "sites_per_well = 4\n",
    "\n",
    "# objects the measurements of which to combine\n",
    "objects = 'Image Nuclei Cells'\n",
    "\n",
    "\n",
    "###\n",
    "### You should not need to modify anything below this line. ###\n",
    "###\n",
    "\n",
    "if Windows:\n",
    "    # Ukko2 $PROJ and $WRKDIR folders mounted on the local computer.\n",
    "    proj_local = WindowsPath('//nas-fs2.cs.helsinki.fi/proj/%s' % (user))\n",
    "    wrk_local = WindowsPath('//ukko2-smb.cs.helsinki.fi/%s' % (user))\n",
    "else:\n",
    "    proj_local = PosixPath('/home/%s/ukko2-proj' % (user))\n",
    "    wrk_local = PosixPath('/home/%s/ukko2-wrk' % (user))\n",
    "\n",
    "# $PROJ path on Ukko2.\n",
    "proj_remote = PurePosixPath('/proj/%s' % (user))\n",
    "# $WRKDIR path on Ukko2.\n",
    "wrk_remote = PurePosixPath('/wrk/%s' % (user))\n",
    "\n",
    "results_prefix = project + '_' + run + '_'\n",
    "\n",
    "# define directories\n",
    "sbatch_dir_local = proj_local / 'Projects' / 'CellProfiler' / project / run\n",
    "cp_output_dir_local = wrk_local / 'output' / 'CellProfiler' / project / run\n",
    "results_local = results_root_local / 'output' / 'CellProfiler' / project / run\n",
    "\n",
    "# these are the same directories but as seen on the cluster\n",
    "sbatch_dir_remote = proj_remote / 'Projects' / 'CellProfiler' / project / run\n",
    "cp_output_dir_remote = wrk_remote / 'output' / 'CellProfiler' / project / run\n",
    "\n",
    "# Directory with sbatch script template\n",
    "templatedir = '.'\n",
    "\n",
    "# Create the jinja2 environment.\n",
    "j2_env = Environment(loader=FileSystemLoader(templatedir))\n",
    "\n",
    "# print a directory name to show the settings\n",
    "print(cp_output_dir_remote)"
   ]
  },
  {
   "cell_type": "markdown",
   "metadata": {},
   "source": [
    "## Create batch job script"
   ]
  },
  {
   "cell_type": "code",
   "execution_count": 8,
   "metadata": {
    "scrolled": true
   },
   "outputs": [
    {
     "name": "stdout",
     "output_type": "stream",
     "text": [
      "threads_available: 56\n",
      "threads_requested: 48\n",
      "nsites: 144\n",
      "nbatches: 48\n",
      "nbatch_size: 3\n",
      "nsites_sanity_check: 144\n",
      "Copying /home/hajaalin/tmp/Batch_data.h5 ...\n",
      "Copied to /proj/hajaalin/Projects/CellProfiler/tskarhu/20190214a/Batch_data.h5.\n",
      "# To submit the batch job, run the following commands on Ukko2:\n",
      "cd /proj/hajaalin/Projects/CellProfiler/tskarhu/20190214a\n",
      "sbatch --exclude=ukko2-paavo,ukko2-pekka sbatch_tskarhu_20190214a_144_3.sh > jobid\n",
      "# To check the job que:\n",
      "squeue | grep hajaalin\n",
      "\n"
     ]
    }
   ],
   "source": [
    "#\n",
    "# Memory options\n",
    "#mem_per_cpu = 2048\n",
    "mem_per_cpu = 4096\n",
    "#mem_per_cpu = 6144\n",
    "java_opts = \"-Xmx512m\"\n",
    "\n",
    "\n",
    "#\n",
    "# Parameters for splitting the run in batches.\n",
    "\n",
    "# number of threads available, assuming we request 4 nodes, but using only 1 thread per core\n",
    "# (see https://wiki.helsinki.fi/display/it4sci/Technical+Specifications)\n",
    "nnodes = 4\n",
    "cpus_per_node = 2\n",
    "cores_per_cpu = 14\n",
    "threads_available = nnodes * cpus_per_node * cores_per_cpu\n",
    "# something on Ukko2 seems to not work when trying to use maximum number of cores, \n",
    "# so let's settle for half\n",
    "threads_available = threads_available / 2\n",
    "\n",
    "#https://stackoverflow.com/questions/9761562/how-many-factors-in-an-integer\n",
    "def factors(n):\n",
    "    result = []\n",
    "\n",
    "    for i in range(1, n + 1):\n",
    "        if n % i == 0:\n",
    "            result.append(i)\n",
    "\n",
    "    return result\n",
    "\n",
    "nsites = nwells * sites_per_well\n",
    "\n",
    "# to keep all batches the same size, the number of batches must be a factor of nsites...\n",
    "f = factors(nsites)\n",
    "# ... and smaller than nthreads\n",
    "f2 = [i for i in f if i <= threads_available]\n",
    "nbatches = max(f2)\n",
    "#print(f)\n",
    "#print(f2)\n",
    "batch_size = int(nsites / nbatches)\n",
    "\n",
    "# manual batch size settings\n",
    "#nbatches = 36\n",
    "#batch_size = 4\n",
    "\n",
    "ntasks = nbatches\n",
    "cpus_per_task = 1\n",
    "threads_requested = ntasks * cpus_per_task\n",
    "\n",
    "batch_last_start = (nbatches - 1) * batch_size + 1\n",
    "nsites_sanity_check = int(nbatches*batch_size)\n",
    "print(\"threads_available: %d\" % threads_available)\n",
    "print(\"threads_requested: %d\" % threads_requested)\n",
    "print(\"nsites: %d\" % nsites)\n",
    "print(\"nbatches: %d\" % nbatches)\n",
    "print(\"nbatch_size: %d\" % batch_size)\n",
    "print(\"nsites_sanity_check: %d\" % nsites_sanity_check)\n",
    "\n",
    "#import os\n",
    "#print(os.listdir(wrk_local))\n",
    "#print(os.listdir(proj_local))\n",
    "#print(os.listdir(proj_local / 'Projects' / 'CellProfiler'))\n",
    "\n",
    "# create directories for sbatch script and batch data file (.h5), and output \n",
    "sbatch_dir_local.mkdir(parents=True, exist_ok=False)\n",
    "cp_output_dir_local.mkdir(parents=True, exist_ok=True)\n",
    "\n",
    "cp_batch_data_local = sbatch_dir_local.joinpath(Path('Batch_data.h5'))\n",
    "cp_batch_data_remote = sbatch_dir_remote.joinpath(Path('Batch_data.h5'))\n",
    "# copy CellProfiler Batch_data.h5 if a local file was specified\n",
    "if cp_batch_data:\n",
    "    print('Copying %s ...' % (str(cp_batch_data)))\n",
    "    cp_batch_data_remote = sbatch_dir_remote.joinpath(cp_batch_data.name)\n",
    "    shutil.copy(cp_batch_data, str(sbatch_dir_local))\n",
    "    print('Copied to %s.' % (str(cp_batch_data_remote)))\n",
    "\n",
    "context = { 'email' : email, \\\n",
    "            'nnodes' : nnodes, \\\n",
    "            'ntasks' : ntasks, \\\n",
    "            'cpus_per_task' : cpus_per_task, \\\n",
    "            'mem_per_cpu' : mem_per_cpu, \\\n",
    "            'java_opts' : java_opts, \\\n",
    "            'workdir' : cp_output_dir_remote, \\\n",
    "            'outputroot' : cp_output_dir_remote, \\\n",
    "            'resultsdir' : sbatch_dir_remote, \\\n",
    "            'project' : project, \\\n",
    "            'run' : run, \\\n",
    "            'resultsprefix' : results_prefix, \\\n",
    "            'cp_batchfile' : cp_batch_data_remote, \\\n",
    "            'nwells' : nwells, \\\n",
    "            'sites_per_well' : sites_per_well, \\\n",
    "            'nsites' : nsites, \\\n",
    "            'nbatches' : nbatches, \\\n",
    "            'nsites_sanity_check' : nsites_sanity_check, \\\n",
    "            'batch_size' : batch_size, \\\n",
    "            'batch_last_start' : batch_last_start, \\\n",
    "            'objects' : objects }\n",
    "\n",
    "script = j2_env.get_template('cp_sbatch_template.sh.j2').render(context)\n",
    "\n",
    "# save the results\n",
    "scriptfilename = Path(\"sbatch_%s_%s_%d_%d.sh\" % (project, run, nsites, batch_size ))\n",
    "scriptfile = sbatch_dir_local.joinpath(scriptfilename)\n",
    "with open(scriptfile, \"w\", newline='\\n') as fh:\n",
    "    fh.write(script)   \n",
    "#print(scriptfile)\n",
    "\n",
    "# print sbatch command\n",
    "print(\"# To submit the batch job, run the following commands on Ukko2:\")\n",
    "print(\"cd \" + str(sbatch_dir_remote))\n",
    "print(\"sbatch --exclude=ukko2-paavo,ukko2-pekka \" + str(scriptfilename) + \" > jobid\")\n",
    "print(\"# To check the job que:\")\n",
    "print(\"squeue | grep \" + user)\n",
    "print()"
   ]
  },
  {
   "cell_type": "markdown",
   "metadata": {},
   "source": [
    "## Run batch job\n",
    "At this point you have to log in to Ukko2 with from the terminal (Linux, Mac) or with Putty (Windows), and run the sbatch command printed out by the previous cell. See instructions in https://wiki.helsinki.fi/display/LMU/CellProfiler+on+Ukko2+cluster."
   ]
  },
  {
   "cell_type": "markdown",
   "metadata": {},
   "source": [
    "## Copy results to local computer"
   ]
  },
  {
   "cell_type": "code",
   "execution_count": 11,
   "metadata": {},
   "outputs": [
    {
     "name": "stdout",
     "output_type": "stream",
     "text": [
      "/home/hajaalin/tmp/cp_on_ukko2/output/CellProfiler/tskarhu/20190212d\n",
      "copied folder: /home/hajaalin/ukko2-wrk/output/CellProfiler/tskarhu/20190212d\n",
      "listing of /home/hajaalin/tmp/cp_on_ukko2/output/CellProfiler/tskarhu/20190212d:\n",
      "['20190212d']\n"
     ]
    }
   ],
   "source": [
    "# create results directory\n",
    "#results_local.mkdir(parents=True, exist_ok=False)\n",
    "\n",
    "print(results_local)\n",
    "# copy Ukko2 work directory to local computer\n",
    "shutil.copytree(cp_output_dir_local, results_local)\n",
    "\n",
    "# copy the combined .csv files\n",
    "for f in sbatch_dir_local.glob('*.csv'):\n",
    "    shutil.copy(f, results_local)\n",
    "\n",
    "print('copied folder: %s' %(cp_output_dir_local))\n",
    "print('listing of %s:' % (results_local))\n",
    "print(sorted(os.listdir(results_local / '..')))"
   ]
  },
  {
   "cell_type": "markdown",
   "metadata": {},
   "source": [
    "## Create _Image.csv file with local pathnames"
   ]
  },
  {
   "cell_type": "code",
   "execution_count": 12,
   "metadata": {},
   "outputs": [
    {
     "name": "stdout",
     "output_type": "stream",
     "text": [
      "/home/hajaalin/tmp/cp_on_ukko2/output/CellProfiler/tskarhu/20190212d/tskarhu_20190212d_Combined_Image.csv\n",
      "tskarhu_20190212d_Combined_Image_local.csv\n"
     ]
    }
   ],
   "source": [
    "for f in results_local.glob('*Image.csv'):\n",
    "    if 'local.csv' in str(f):\n",
    "        continue\n",
    "    print(f)\n",
    "    \n",
    "    df = pd.read_csv(f, float_precision='round_trip')\n",
    "    paths = [k for k in list(df.columns.values) if \"PathName\" in k]\n",
    "    originals = [k for k in paths if \"Overlay\" not in k]\n",
    "    overlays = [k for k in paths if \"Overlay\" in k]\n",
    "    \n",
    "    #print(originals)\n",
    "    #print(overlays)\n",
    "\n",
    "    for p in originals:\n",
    "        for k in path_mappings.keys():\n",
    "            if Windows:\n",
    "                df[p] = df[p].str.replace(str(k), str(path_mappings[k]).replace('\\\\','\\\\\\\\'))\n",
    "                df[p] = df[p].str.replace('/', '\\\\')\n",
    "            else:\n",
    "                df[p] = df[p].str.replace(str(k), str(path_mappings[k])) \n",
    "            \n",
    "    for p in overlays:\n",
    "        if Windows:\n",
    "            #print(str(results_local))\n",
    "            #print(str(PureWindowsPath(results_local)).replace('\\\\','\\\\\\\\'))\n",
    "            df[p] = df[p].str.replace(str(cp_output_dir_remote), str(PureWindowsPath(results_local)).replace('\\\\','\\\\\\\\'))\n",
    "            df[p] = df[p].str.replace('/', '\\\\')\n",
    "        else:\n",
    "            df[p] = df[p].str.replace(str(cp_output_dir_remote), str(results_local))\n",
    "    \n",
    "    # Write the modified .csv.\n",
    "    # Default na_rep='', which will cause columns with missing values to have type VARCHAR() in SQLite.\n",
    "    # To prevent this, set na_rep='nan', as it is in the .csv files produced by CP.\n",
    "    # TODO: check why the result file has more 'nan' values than the original.\n",
    "    local_name = f.stem + \"_local\" + f.suffix\n",
    "    df.to_csv(f.with_name(local_name), index=False, na_rep='nan')#, encoding='utf-8')\n",
    "    print(local_name)"
   ]
  },
  {
   "cell_type": "markdown",
   "metadata": {},
   "source": [
    "## Merge all object measurements in one .csv"
   ]
  },
  {
   "cell_type": "code",
   "execution_count": 13,
   "metadata": {},
   "outputs": [
    {
     "name": "stdout",
     "output_type": "stream",
     "text": [
      "/home/hajaalin/tmp/cp_on_ukko2/output/CellProfiler/tskarhu/20190212d/tskarhu_20190212d_Combined_Nuclei.csv\n",
      "/home/hajaalin/tmp/cp_on_ukko2/output/CellProfiler/tskarhu/20190212d/tskarhu_20190212d_Combined_Cells.csv\n",
      "/home/hajaalin/tmp/cp_on_ukko2/output/CellProfiler/tskarhu/20190212d/tskarhu_20190212d_Combined_Objects.csv\n",
      "Done.\n"
     ]
    }
   ],
   "source": [
    "objs = objects.split(' ')\n",
    "objs.remove('Image')\n",
    "#print(objs)\n",
    "\n",
    "merge_on = ['ImageNumber', 'ObjectNumber']\n",
    "keep_col_names = ['ImageNumber', 'ObjectNumber', 'Metadata']\n",
    "\n",
    "df = pd.DataFrame()\n",
    "for o in objs:\n",
    "    \n",
    "    csv = list(results_local.glob('*Combined_' + o + '.csv'))\n",
    "    if len(csv) > 1:\n",
    "        print('Error: ambiguous object files')\n",
    "        print(csv)\n",
    "    ofile = csv[0]\n",
    "    print(ofile)\n",
    "    tmp = pd.read_csv(ofile, float_precision='round_trip')\n",
    "\n",
    "    # rename measurement columns\n",
    "    columns = {}\n",
    "    measurements = [k for k in list(tmp.columns.values) if not k.startswith(tuple(keep_col_names))]\n",
    "    for m in measurements:\n",
    "        columns[m] = m + '_' + o\n",
    "    tmp.rename(index=str, columns=columns, inplace=True)\n",
    "    \n",
    "    #print('tmp.head')\n",
    "    #print(tmp.head(1))\n",
    "\n",
    "    if df.empty:\n",
    "        df = tmp\n",
    "    else:\n",
    "        # find and drop metadata columns\n",
    "        metadata = [k for k in list(tmp.columns.values) if k.startswith('Metadata')]\n",
    "        tmp.drop(metadata, axis=1, inplace=True)\n",
    "            \n",
    "        df = pd.merge(left=df, right=tmp, on=merge_on)\n",
    "    \n",
    "    #print('df.head')\n",
    "    #print(df.head(1))\n",
    "\n",
    "ofile = ofile.with_name(ofile.name.replace(o,\"Objects\"))\n",
    "df.to_csv(ofile, index=False, na_rep='nan')\n",
    "print(ofile)\n",
    "print('Done.')"
   ]
  },
  {
   "cell_type": "markdown",
   "metadata": {},
   "source": [
    "## Create .properties file for CellProfiler Analyst"
   ]
  },
  {
   "cell_type": "code",
   "execution_count": 14,
   "metadata": {},
   "outputs": [
    {
     "name": "stdout",
     "output_type": "stream",
     "text": [
      "/home/hajaalin/tmp/cp_on_ukko2/output/CellProfiler/tskarhu/20190212d/tskarhu_20190212d_nan.properties\n"
     ]
    }
   ],
   "source": [
    "#\n",
    "# Settings for CellProfiler Analyst\n",
    "#\n",
    "\n",
    "image_csv_file = results_local.joinpath(Path(results_prefix + 'Combined_Image_local.csv'))\n",
    "object_csv_file = results_local.joinpath(Path(results_prefix + 'Combined_Objects.csv'))\n",
    "\n",
    "image_names = 'Blue,Red,NucleiOverlay,CellsOverlay'\n",
    "image_path_cols = ''\n",
    "image_file_cols = ''\n",
    "for i in image_names.split(','):\n",
    "    image_path_cols = image_path_cols + 'PathName_' + i + ','\n",
    "    image_file_cols = image_file_cols + 'FileName_' + i + ','\n",
    "\n",
    "# create a properties file for CPA\n",
    "context = { 'image_csv_file' : image_csv_file, \\\n",
    "            'object_csv_file' : object_csv_file, \\\n",
    "            'cell_x_loc' : 'Location_Center_X_Nuclei', \\\n",
    "            'cell_y_loc' : 'Location_Center_Y_Nuclei', \\\n",
    "            'image_path_cols' : image_path_cols, \\\n",
    "            'image_file_cols' : image_file_cols, \\\n",
    "            'image_names' : image_names, \\\n",
    "            'image_channel_colors' : 'blue,red,gray,gray', \\\n",
    "            'object_name' : 'cell, cells,', \\\n",
    "            'plate_type' : 96, \\\n",
    "            'image_tile_size' : 50}\n",
    "\n",
    "properties = j2_env.get_template('DefaultDB_MyExpt.properties').render(context)\n",
    "\n",
    "# save the results\n",
    "properties_filename = Path(\"%s_%s.properties\" % (project, run))\n",
    "properties_file = results_local.joinpath(properties_filename)\n",
    "with open(properties_file, \"w\", newline='\\n') as fh:\n",
    "    fh.write(properties)   \n",
    "print(properties_file)"
   ]
  },
  {
   "cell_type": "code",
   "execution_count": null,
   "metadata": {
    "collapsed": true
   },
   "outputs": [],
   "source": []
  }
 ],
 "metadata": {
  "kernelspec": {
   "display_name": "Python 3",
   "language": "python",
   "name": "python3"
  },
  "language_info": {
   "codemirror_mode": {
    "name": "ipython",
    "version": 3
   },
   "file_extension": ".py",
   "mimetype": "text/x-python",
   "name": "python",
   "nbconvert_exporter": "python",
   "pygments_lexer": "ipython3",
   "version": "3.6.5"
  }
 },
 "nbformat": 4,
 "nbformat_minor": 2
}
