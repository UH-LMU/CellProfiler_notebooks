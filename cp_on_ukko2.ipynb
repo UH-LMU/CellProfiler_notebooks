{
 "cells": [
  {
   "cell_type": "markdown",
   "metadata": {},
   "source": [
    "## Mounting Ukko2 folders on the local computer\n",
    "\n",
    "On Linux (and probably also on Mac) you can use sshfs:\n",
    "```\n",
    "mkdir /home/hajaalin/ukko2-proj\n",
    "mkdir /home/hajaalin/ukko2-wrk/\n",
    "sshfs ukko2.cs.helsinki.fi:/wrk/hajaalin /home/hajaalin/ukko2-wrk/\n",
    "sshfs ukko2.cs.helsinki.fi:/proj/hajaalin /home/hajaalin/ukko2-proj/\n",
    "\n",
    "```\n",
    "On Windows:\n",
    "- To mount \\$WRKDIR, type \\\\\\\\ukko2-smb.cs.helsinki.fi\\\\YOUR_UH_USERNAME in File Explorer.\n",
    "\n",
    "- To mount \\$PROJ, type \\\\\\\\nas-fs2.cs.helsinki.fi\\\\proj\\\\YOUR_UH_USERNAME in File Explorer."
   ]
  },
  {
   "cell_type": "markdown",
   "metadata": {},
   "source": [
    "## Project settings\n",
    "You might change these back and forth between different projects/runs as you run the cells below."
   ]
  },
  {
   "cell_type": "code",
   "execution_count": 60,
   "metadata": {},
   "outputs": [
    {
     "name": "stdout",
     "output_type": "stream",
     "text": [
      "/wrk/hajaalin/CellProfiler/output/tskarhu/20190205b\n"
     ]
    }
   ],
   "source": [
    "from jinja2 import Environment, FileSystemLoader\n",
    "from pathlib import Path,PosixPath,PurePosixPath,WindowsPath\n",
    "\n",
    "user = 'hajaalin'\n",
    "email = 'harri.jaalinoja@helsinki.fi'\n",
    "\n",
    "# Ukko2 $PROJ and $WRKDIR folders mounted on the local computer.\n",
    "proj_local = PosixPath('/home/%s/ukko2-proj' % (user))\n",
    "#proj_local = WindowsPath('\\\\\\\\nas-fs2.cs.helsinki.fi\\\\proj\\\\%s' % (user))\n",
    "wrk_local = PosixPath('/home/%s/ukko2-wrk' % (user))\n",
    "#wrk_local = WindowsPath('\\\\\\\\ukko2-smb.cs.helsinki.fi\\\\%s' % (user))\n",
    "# $PROJ path on Ukko2.\n",
    "proj_remote = PurePosixPath('/proj/%s' % (user))\n",
    "# $WRKDIR path on Ukko2.\n",
    "wrk_remote = PurePosixPath('/wrk/%s' % (user))\n",
    "\n",
    "project = 'tskarhu'\n",
    "#run = '20190204b'\n",
    "run = '20190205a'\n",
    "run = '20190205b'\n",
    "\n",
    "# number of wells and sites per well\n",
    "nwells = 36\n",
    "sites_per_well = 4\n",
    "\n",
    "# objects the measurements of which to combine\n",
    "objects = 'Image Nuclei Cells'\n",
    "\n",
    "\n",
    "results_prefix = project + '_' + run + '_'\n",
    "\n",
    "# define directories\n",
    "sbatch_dir_local = proj_local / 'Projects' / 'CellProfiler' / project / run\n",
    "cp_batch_dir_local = wrk_local / 'CellProfiler' / 'cp_batch_files' / project / run\n",
    "cp_output_dir_local = wrk_local / 'CellProfiler' / 'output' / project / run\n",
    "\n",
    "# these are the same directories but as seen on the cluster\n",
    "sbatch_dir_remote = proj_remote / 'Projects' / 'CellProfiler' / project / run\n",
    "cp_batch_dir_remote = wrk_remote / 'CellProfiler' / 'cp_batch_files' / project / run\n",
    "cp_output_dir_remote = wrk_remote / 'CellProfiler' / 'output' / project / run\n",
    "\n",
    "# print a directory name to show the settings\n",
    "print(cp_output_dir_remote)"
   ]
  },
  {
   "cell_type": "markdown",
   "metadata": {},
   "source": [
    "## Create batch job script"
   ]
  },
  {
   "cell_type": "code",
   "execution_count": 61,
   "metadata": {
    "scrolled": true
   },
   "outputs": [
    {
     "name": "stdout",
     "output_type": "stream",
     "text": [
      "threads_available: 56\n",
      "threads_requested: 48\n",
      "nsites: 144\n",
      "nbatches: 48\n",
      "nbatch_size: 3\n",
      "nsites_sanity_check: 144\n",
      "# To submit the batch job, run the following command on Ukko2:\n",
      "sbatch /proj/hajaalin/Projects/CellProfiler/tskarhu/20190205b/sbatch_tskarhu_20190205b_144_3.sh\n",
      "# To check the job que:\n",
      "squeue | grep hajaalin\n"
     ]
    }
   ],
   "source": [
    "\n",
    "###\n",
    "### You should not need to modify anything below this line. ###\n",
    "###\n",
    "\n",
    "nsites = nwells * sites_per_well\n",
    "\n",
    "\n",
    "#\n",
    "# Memory options\n",
    "#mem_per_cpu = 2048\n",
    "#mem_per_cpu = 4096\n",
    "mem_per_cpu = 6144\n",
    "java_opts = \"-Xmx512m\"\n",
    "\n",
    "\n",
    "#\n",
    "# Parameters for splitting the run in batches.\n",
    "\n",
    "# number of threads available, assuming we request 4 nodes, but using only 1 thread per core\n",
    "# (see https://wiki.helsinki.fi/display/it4sci/Technical+Specifications)\n",
    "nnodes = 4\n",
    "cpus_per_node = 2\n",
    "cores_per_cpu = 14\n",
    "threads_available = nnodes * cpus_per_node * cores_per_cpu\n",
    "# something on Ukko2 seems to not work when trying to use maximum number of cores, \n",
    "# so let's settle for half\n",
    "threads_available = threads_available / 2\n",
    "\n",
    "#https://stackoverflow.com/questions/9761562/how-many-factors-in-an-integer\n",
    "def factors(n):\n",
    "    result = []\n",
    "\n",
    "    for i in range(1, n + 1):\n",
    "        if n % i == 0:\n",
    "            result.append(i)\n",
    "\n",
    "    return result\n",
    "\n",
    "# to keep all batches the same size, the number of batches must be a factor of nsites...\n",
    "f = factors(nsites)\n",
    "# ... and smaller than nthreads\n",
    "f2 = [i for i in f if i <= threads_available]\n",
    "nbatches = max(f2)\n",
    "#print(f)\n",
    "#print(f2)\n",
    "batch_size = int(nsites / nbatches)\n",
    "\n",
    "# manual batch size settings\n",
    "#nbatches = 36\n",
    "#batch_size = 4\n",
    "\n",
    "ntasks = nbatches\n",
    "cpus_per_task = 1\n",
    "threads_requested = ntasks * cpus_per_task\n",
    "\n",
    "batch_last_start = (nbatches - 1) * batch_size + 1\n",
    "nsites_sanity_check = int(nbatches*batch_size)\n",
    "print(\"threads_available: %d\" % threads_available)\n",
    "print(\"threads_requested: %d\" % threads_requested)\n",
    "print(\"nsites: %d\" % nsites)\n",
    "print(\"nbatches: %d\" % nbatches)\n",
    "print(\"nbatch_size: %d\" % batch_size)\n",
    "print(\"nsites_sanity_check: %d\" % nsites_sanity_check)\n",
    "\n",
    "#import os\n",
    "#print(os.listdir(wrk_local))\n",
    "#print(os.listdir(proj_local))\n",
    "#print(os.listdir(proj_local / 'Projects' / 'CellProfiler'))\n",
    "\n",
    "# create directories for sbatch script, batch data file (.h5) and output \n",
    "sbatch_dir_local.mkdir(parents=True, exist_ok=False)\n",
    "cp_batch_dir_local.mkdir(parents=True, exist_ok=True)\n",
    "cp_output_dir_local.mkdir(parents=True, exist_ok=True)\n",
    "\n",
    "\n",
    "context = { 'email' : email, \\\n",
    "            'nnodes' : nnodes, \\\n",
    "            'ntasks' : ntasks, \\\n",
    "            'cpus_per_task' : cpus_per_task, \\\n",
    "            'mem_per_cpu' : mem_per_cpu, \\\n",
    "            'java_opts' : java_opts, \\\n",
    "            'workdir' : cp_output_dir_remote, \\\n",
    "            'outputroot' : cp_output_dir_remote, \\\n",
    "            'resultsdir' : sbatch_dir_remote, \\\n",
    "            'project' : project, \\\n",
    "            'run' : run, \\\n",
    "            'resultsprefix' : results_prefix, \\\n",
    "            'cp_batchfile' : cp_batch_dir_remote.joinpath(Path('Batch_data.h5')), \\\n",
    "            'nwells' : nwells, \\\n",
    "            'sites_per_well' : sites_per_well, \\\n",
    "            'nsites' : nsites, \\\n",
    "            'nbatches' : nbatches, \\\n",
    "            'nsites_sanity_check' : nsites_sanity_check, \\\n",
    "            'batch_size' : batch_size, \\\n",
    "            'batch_last_start' : batch_last_start, \\\n",
    "            'objects' : objects }\n",
    "\n",
    "# Directory with sbatch script template\n",
    "templatedir = '.'\n",
    "\n",
    "# Create the jinja2 environment.\n",
    "j2_env = Environment(loader=FileSystemLoader(templatedir))\n",
    "script = j2_env.get_template('cp_sbatch_template.sh.j2').render(context)\n",
    "\n",
    "# save the results\n",
    "scriptfilename = Path(\"sbatch_%s_%s_%d_%d.sh\" % (project, run, nsites, batch_size ))\n",
    "scriptfile = sbatch_dir_local.joinpath(scriptfilename)\n",
    "with open(scriptfile, \"w\", newline='\\n') as fh:\n",
    "    fh.write(script)   \n",
    "#print(scriptfile)\n",
    "\n",
    "# print sbatch command\n",
    "print(\"# To submit the batch job, run the following command on Ukko2:\")\n",
    "print(\"sbatch --exclude=ukko2-paavo,ukko2-pekka \" + str(sbatch_dir_remote.joinpath(scriptfilename)))\n",
    "print(\"# To check the job que:\")\n",
    "print(\"squeue | grep \" + user)\n",
    "\n",
    "\n"
   ]
  },
  {
   "cell_type": "markdown",
   "metadata": {},
   "source": [
    "## Create result files with local pathnames"
   ]
  },
  {
   "cell_type": "code",
   "execution_count": 62,
   "metadata": {},
   "outputs": [
    {
     "name": "stdout",
     "output_type": "stream",
     "text": [
      "/home/hajaalin/ukko2-proj/Projects/CellProfiler/tskarhu/20190205b/tskarhu_20190205b_Combined_Image.csv\n",
      "/home/hajaalin/ukko2-proj/Projects/CellProfiler/tskarhu/20190205b/tskarhu_20190205b_Combined_Nuclei.csv\n",
      "/home/hajaalin/ukko2-proj/Projects/CellProfiler/tskarhu/20190205b/tskarhu_20190205b_Combined_Cells.csv\n"
     ]
    }
   ],
   "source": [
    "import pandas as pd\n",
    "\n",
    "# data location mappings, same as specified in CreateBatchFiles\n",
    "datamap = {'/wrk/hajaalin/data/tskarhu' : '/mnt/lmu-netapp/instruments/Nano/MDCStore/tskarhu'}\n",
    "\n",
    "for f in sbatch_dir_local.glob('*.csv'):\n",
    "    if 'local.csv' in str(f):\n",
    "        continue\n",
    "    print(f)\n",
    "    \n",
    "    df = pd.read_csv(f, float_precision='round_trip')\n",
    "    paths = [k for k in list(df.columns.values) if \"PathName\" in k]\n",
    "\n",
    "    for p in paths:\n",
    "        for k in datamap.keys():\n",
    "            df[p] = df[p].str.replace(k, datamap[k])\n",
    "\n",
    "    df.to_csv(f.with_name(f.stem + \"_local\" + f.suffix), index=False)\n"
   ]
  },
  {
   "cell_type": "markdown",
   "metadata": {},
   "source": [
    "## Create .properties file for CellProfiler Analyst"
   ]
  },
  {
   "cell_type": "code",
   "execution_count": 66,
   "metadata": {},
   "outputs": [
    {
     "name": "stdout",
     "output_type": "stream",
     "text": [
      "/home/hajaalin/ukko2-proj/Projects/CellProfiler/tskarhu/20190205b/tskarhu_20190205b_144_3.properties\n"
     ]
    }
   ],
   "source": [
    "#\n",
    "# Settings for CellProfiler Analyst\n",
    "#\n",
    "\n",
    "image_csv_file = sbatch_dir_local.joinpath(Path(results_prefix + 'Combined_Image_local.csv'))\n",
    "object_csv_file = sbatch_dir_local.joinpath(Path(results_prefix + 'Combined_Cells_local.csv'))\n",
    "image_csv_file = sbatch_dir_local.joinpath(Path(results_prefix + 'Combined_Image.csv'))\n",
    "object_csv_file = sbatch_dir_local.joinpath(Path(results_prefix + 'Combined_Cells.csv'))\n",
    "\n",
    "image_names = 'Blue,Red,NucleiOverlay,CellsOverlay'\n",
    "image_path_cols = ''\n",
    "image_file_cols = ''\n",
    "for i in image_names.split(','):\n",
    "    image_path_cols = image_path_cols + 'PathName_' + i + ','\n",
    "    image_file_cols = image_file_cols + 'FileName_' + i + ','\n",
    "\n",
    "# create a properties file for CPA\n",
    "context = { 'image_csv_file' : image_csv_file, \\\n",
    "            'object_csv_file' : object_csv_file, \\\n",
    "            'cell_x_loc' : 'Location_Center_X', \\\n",
    "            'cell_y_loc' : 'Location_Center_Y', \\\n",
    "            'image_path_cols' : image_path_cols, \\\n",
    "            'image_file_cols' : image_file_cols, \\\n",
    "            'image_names' : image_names, \\\n",
    "            'image_channel_colors' : 'blue,red,gray,gray', \\\n",
    "            'object_name' : 'cell, cells,', \\\n",
    "            'plate_type' : 96, \\\n",
    "            'image_tile_size' : 50}\n",
    "properties = j2_env.get_template('DefaultDB_MyExpt.properties').render(context)\n",
    "\n",
    "# save the results\n",
    "properties_filename = Path(\"%s_%s_%d_%d.properties\" % (project, run, nsites, batch_size ))\n",
    "properties_file = sbatch_dir_local.joinpath(properties_filename)\n",
    "with open(properties_file, \"w\", newline='\\n') as fh:\n",
    "    fh.write(properties)   \n",
    "print(properties_file)"
   ]
  },
  {
   "cell_type": "code",
   "execution_count": null,
   "metadata": {},
   "outputs": [],
   "source": []
  }
 ],
 "metadata": {
  "kernelspec": {
   "display_name": "Python 3",
   "language": "python",
   "name": "python3"
  },
  "language_info": {
   "codemirror_mode": {
    "name": "ipython",
    "version": 3
   },
   "file_extension": ".py",
   "mimetype": "text/x-python",
   "name": "python",
   "nbconvert_exporter": "python",
   "pygments_lexer": "ipython3",
   "version": "3.6.5"
  }
 },
 "nbformat": 4,
 "nbformat_minor": 2
}
